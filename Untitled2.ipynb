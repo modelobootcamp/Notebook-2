{
 "cells": [
  {
   "cell_type": "code",
   "execution_count": 1,
   "metadata": {},
   "outputs": [
    {
     "ename": "IndentationError",
     "evalue": "expected an indented block (<ipython-input-1-bf8df072811a>, line 10)",
     "output_type": "error",
     "traceback": [
      "\u001b[1;36m  File \u001b[1;32m\"<ipython-input-1-bf8df072811a>\"\u001b[1;36m, line \u001b[1;32m10\u001b[0m\n\u001b[1;33m    P_L=row[1]\u001b[0m\n\u001b[1;37m      ^\u001b[0m\n\u001b[1;31mIndentationError\u001b[0m\u001b[1;31m:\u001b[0m expected an indented block\n"
     ]
    }
   ],
   "source": [
    "path = os.path.join('../Resources/budget_data.csv')\n",
    "\n",
    "Date = []\n",
    "P_L =[]\n",
    "\n",
    "with open(path, \"r\", newline = \"\", encoding=\"utf8\") as csvfile:\n",
    "   csvreader=csv.reader(csvfile, delimiter = ',')\n",
    "\n",
    "   def getPercentages(row):\n",
    "   P_L=row[1]\n",
    "   average = getPercentages(row[1])\n",
    "   return sum(row[1])/len(row[1])\n",
    "print(\"average = \",round(average,2))"
   ]
  },
  {
   "cell_type": "code",
   "execution_count": null,
   "metadata": {},
   "outputs": [],
   "source": []
  }
 ],
 "metadata": {
  "kernelspec": {
   "display_name": "Python 3",
   "language": "python",
   "name": "python3"
  },
  "language_info": {
   "codemirror_mode": {
    "name": "ipython",
    "version": 3
   },
   "file_extension": ".py",
   "mimetype": "text/x-python",
   "name": "python",
   "nbconvert_exporter": "python",
   "pygments_lexer": "ipython3",
   "version": "3.7.0"
  }
 },
 "nbformat": 4,
 "nbformat_minor": 2
}
